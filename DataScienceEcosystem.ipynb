{
 "cells": [
  {
   "cell_type": "markdown",
   "id": "fbd2d0ac-db0b-4f66-9d0e-093907289d56",
   "metadata": {},
   "source": [
    "# Data Science Tools and Ecosystem"
   ]
  },
  {
   "cell_type": "markdown",
   "id": "911d0a07-6852-4b67-b701-fb7788f055de",
   "metadata": {},
   "source": [
    "In this notebook, Data Science Tools and Ecosystem are summarized."
   ]
  },
  {
   "cell_type": "markdown",
   "id": "302a3476-80f6-4ad6-aad1-e05849e3214c",
   "metadata": {},
   "source": [
    "Some of the popular languages that Data Scientists use are:"
   ]
  },
  {
   "cell_type": "markdown",
   "id": "12128cba-6f6c-4af3-975f-a2690f8becb9",
   "metadata": {},
   "source": [
    "* Python\n",
    "* R\n",
    "* SQL\n",
    "* Scala\n",
    "  "
   ]
  },
  {
   "cell_type": "markdown",
   "id": "2cc0e235-bcec-4622-aaa0-f350c89696e2",
   "metadata": {},
   "source": [
    "Some of the commonly used libraries used by Data Scientists include:"
   ]
  },
  {
   "cell_type": "markdown",
   "id": "efb2935c-fb72-4c87-84ab-4b82b98e334c",
   "metadata": {},
   "source": [
    "1. Pandas\n",
    "2. Numpy\n",
    "3. Seaborn"
   ]
  },
  {
   "cell_type": "markdown",
   "id": "0e287e18-77df-43ec-91b5-dc36eebb329c",
   "metadata": {},
   "source": [
    "**Objectives:**"
   ]
  },
  {
   "cell_type": "markdown",
   "id": "c3e5d387-5f3f-431e-b4e9-0d5b493599ad",
   "metadata": {},
   "source": [
    "* List popular languages for Data Science\n",
    "* List popular tools for Data Science\n",
    "* Commonly used data science languages"
   ]
  },
  {
   "cell_type": "markdown",
   "id": "18ab8c09-9e47-4a61-9b40-ae82dd7f585b",
   "metadata": {},
   "source": [
    "| Data Science Tools |\n",
    "| :----------------------: |\n",
    "| Jupyter notebook |\n",
    "| Tensor flow |\n",
    "| Pytorch |"
   ]
  },
  {
   "cell_type": "markdown",
   "id": "039c4df9-6528-4683-bfe2-d2a69f3712d4",
   "metadata": {},
   "source": [
    "### Below are a few examples of evaluating arithmetic expressions in Python"
   ]
  },
  {
   "cell_type": "code",
   "execution_count": 1,
   "id": "c1090129-54a7-43d9-8dce-d31f4a7cab93",
   "metadata": {},
   "outputs": [
    {
     "data": {
      "text/plain": [
       "17"
      ]
     },
     "execution_count": 1,
     "metadata": {},
     "output_type": "execute_result"
    }
   ],
   "source": [
    "#This a simple arithmetic expression to mutiply then add integers\n",
    "(3*4)+5"
   ]
  },
  {
   "cell_type": "code",
   "execution_count": 3,
   "id": "f53c29d1-051e-4321-9eee-afac5edf29e2",
   "metadata": {},
   "outputs": [
    {
     "name": "stdout",
     "output_type": "stream",
     "text": [
      "Hours= 3\n",
      "Minutes= 200\n"
     ]
    }
   ],
   "source": [
    " #This will convert 200 minutes to hours by diving by 60\n",
    "min=200\n",
    "h=min//60\n",
    "m=min%60\n",
    "print(\"Hours=\",h)\n",
    "print(\"Minutes=\",min)"
   ]
  },
  {
   "cell_type": "markdown",
   "id": "c8db5fca-f500-4404-860b-c8ca579c4675",
   "metadata": {},
   "source": [
    "## Author"
   ]
  },
  {
   "cell_type": "markdown",
   "id": "da99915c-26dd-46c4-9681-89bdb07cdcca",
   "metadata": {},
   "source": [
    "Srujan H J"
   ]
  },
  {
   "cell_type": "code",
   "execution_count": null,
   "id": "6a550f99-96ca-4ad7-b0c3-489f27cd885b",
   "metadata": {},
   "outputs": [],
   "source": []
  }
 ],
 "metadata": {
  "kernelspec": {
   "display_name": "Python 3 (ipykernel)",
   "language": "python",
   "name": "python3"
  },
  "language_info": {
   "codemirror_mode": {
    "name": "ipython",
    "version": 3
   },
   "file_extension": ".py",
   "mimetype": "text/x-python",
   "name": "python",
   "nbconvert_exporter": "python",
   "pygments_lexer": "ipython3",
   "version": "3.11.7"
  }
 },
 "nbformat": 4,
 "nbformat_minor": 5
}
